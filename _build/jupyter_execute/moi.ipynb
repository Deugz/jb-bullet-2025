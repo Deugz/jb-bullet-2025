{
 "cells": [
  {
   "cell_type": "code",
   "execution_count": 1,
   "id": "a3d0c18e-58f3-4fcb-8a8f-53eb601c652b",
   "metadata": {},
   "outputs": [
    {
     "name": "stdout",
     "output_type": "stream",
     "text": [
      "Fichier Calendrier\\janvier\\janvier.md créé avec succès.\n",
      "Fichier Calendrier\\fevrier\\fevrier.md créé avec succès.\n",
      "Fichier Calendrier\\mars\\mars.md créé avec succès.\n",
      "Fichier Calendrier\\avril\\avril.md créé avec succès.\n",
      "Fichier Calendrier\\mai\\mai.md créé avec succès.\n",
      "Fichier Calendrier\\juin\\juin.md créé avec succès.\n",
      "Fichier Calendrier\\juillet\\juillet.md créé avec succès.\n",
      "Fichier Calendrier\\aout\\aout.md créé avec succès.\n",
      "Fichier Calendrier\\septembre\\septembre.md créé avec succès.\n",
      "Fichier Calendrier\\octobre\\octobre.md créé avec succès.\n",
      "Fichier Calendrier\\novembre\\novembre.md créé avec succès.\n",
      "Fichier Calendrier\\decembre\\decembre.md créé avec succès.\n"
     ]
    }
   ],
   "source": [
    "import os\n",
    "from datetime import date, timedelta\n",
    "\n",
    "# Liste des mois avec leur nombre de jours\n",
    "months = [\n",
    "    (\"janvier\", 31),\n",
    "    (\"fevrier\", 28),  # Ajuste à 29 si année bissextile\n",
    "    (\"mars\", 31),\n",
    "    (\"avril\", 30),\n",
    "    (\"mai\", 31),\n",
    "    (\"juin\", 30),\n",
    "    (\"juillet\", 31),\n",
    "    (\"aout\", 31),\n",
    "    (\"septembre\", 30),\n",
    "    (\"octobre\", 31),\n",
    "    (\"novembre\", 30),\n",
    "    (\"decembre\", 31)\n",
    "]\n",
    "\n",
    "# Année cible\n",
    "year = 2025\n",
    "\n",
    "# Chemin du dossier principal\n",
    "directory = \"Calendrier\"\n",
    "\n",
    "# Fonction pour générer les semaines d'un mois\n",
    "def generate_weeks(month_index, days):\n",
    "    weeks = []\n",
    "    start_date = date(year, month_index, 1)\n",
    "    for week_start in range(0, days, 7):\n",
    "        week_end = min(week_start + 6, days - 1)\n",
    "        week_start_date = start_date + timedelta(days=week_start)\n",
    "        week_end_date = start_date + timedelta(days=week_end)\n",
    "        weeks.append((week_start_date, week_end_date))\n",
    "    return weeks\n",
    "\n",
    "# Parcourt chaque sous-dossier et crée le fichier mois.md\n",
    "for month_index, (month, days) in enumerate(months, start=1):\n",
    "    folder_path = os.path.join(directory, month)\n",
    "    file_path = os.path.join(folder_path, f\"{month}.md\")\n",
    "\n",
    "    # Vérifie si le dossier existe\n",
    "    if not os.path.exists(folder_path):\n",
    "        print(f\"Dossier {folder_path} non trouvé, saut...\")\n",
    "        continue\n",
    "\n",
    "    # Génération des semaines\n",
    "    weeks = generate_weeks(month_index, days)\n",
    "\n",
    "    # Contenu du fichier Markdown\n",
    "    content = f\"# {month.capitalize()} {year}\\n\\n## Semaines\\n\\n\"\n",
    "    for i, (start, end) in enumerate(weeks, start=1):\n",
    "        content += f\"::::{{grid-item-card}}\\n:link:  \\n:class-header: bg-light\\n\\nsemaine {i}\\n^^^\\n\\nlundi {start.day} - dimanche {end.day}\\n\\n:::\\n\\n::::\\n\\n\"\n",
    "\n",
    "    # Écrit le contenu dans le fichier\n",
    "    with open(file_path, \"w\", encoding=\"utf-8\") as f:\n",
    "        f.write(content)\n",
    "\n",
    "    print(f\"Fichier {file_path} créé avec succès.\")\n"
   ]
  },
  {
   "cell_type": "code",
   "execution_count": null,
   "id": "7a7a11b6-7f52-45ab-884e-141e4b9ea20f",
   "metadata": {},
   "outputs": [],
   "source": []
  }
 ],
 "metadata": {
  "kernelspec": {
   "display_name": "Python 3 (ipykernel)",
   "language": "python",
   "name": "python3"
  },
  "language_info": {
   "codemirror_mode": {
    "name": "ipython",
    "version": 3
   },
   "file_extension": ".py",
   "mimetype": "text/x-python",
   "name": "python",
   "nbconvert_exporter": "python",
   "pygments_lexer": "ipython3",
   "version": "3.9.13"
  }
 },
 "nbformat": 4,
 "nbformat_minor": 5
}